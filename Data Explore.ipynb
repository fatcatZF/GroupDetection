{
 "cells": [
  {
   "cell_type": "code",
   "execution_count": 203,
   "id": "a557e0ba",
   "metadata": {},
   "outputs": [],
   "source": [
    "import os\n",
    "import numpy as np\n",
    "import pickle\n",
    "\n",
    "import matplotlib\n",
    "import matplotlib.pyplot as plt\n",
    "from matplotlib import colors\n",
    "from matplotlib import cm\n",
    "from matplotlib.colors import ListedColormap, LinearSegmentedColormap\n",
    "import matplotlib.pylab as pl\n",
    "\n",
    "import torch\n",
    "import torch.nn as nn\n",
    "import torch.nn.functional as F\n",
    "\n",
    "from utils import *"
   ]
  },
  {
   "cell_type": "markdown",
   "id": "f7d53b5c",
   "metadata": {},
   "source": [
    "# Pedestrian Dataset"
   ]
  },
  {
   "cell_type": "code",
   "execution_count": 204,
   "id": "7c15c7f7",
   "metadata": {},
   "outputs": [],
   "source": [
    "from sknetwork.topology import get_connected_components"
   ]
  },
  {
   "cell_type": "code",
   "execution_count": 205,
   "id": "11d45361",
   "metadata": {},
   "outputs": [
    {
     "name": "stdout",
     "output_type": "stream",
     "text": [
      "\u001b[34mETH\u001b[m\u001b[m\r\n",
      "\u001b[34mHotel\u001b[m\u001b[m\r\n",
      "examples_all_unnormalized_ETH.pkl\r\n",
      "examples_all_unnormalized_Hotel.pkl\r\n",
      "examples_all_unnormalized_students03.pkl\r\n",
      "examples_all_unnormalized_zara01.pkl\r\n",
      "examples_all_unnormalized_zara02.pkl\r\n",
      "labels_all_ETH.pkl\r\n",
      "labels_all_Hotel.pkl\r\n",
      "labels_all_students03.pkl\r\n",
      "labels_all_zara01.pkl\r\n",
      "labels_all_zara02.pkl\r\n",
      "\u001b[34mstudents03\u001b[m\u001b[m\r\n",
      "\u001b[34mzara01\u001b[m\u001b[m\r\n",
      "\u001b[34mzara02\u001b[m\u001b[m\r\n"
     ]
    }
   ],
   "source": [
    "!ls data/pedestrian/all/"
   ]
  },
  {
   "cell_type": "code",
   "execution_count": 206,
   "id": "f0b393ba",
   "metadata": {},
   "outputs": [],
   "source": [
    "data_folder = \"data/pedestrian/all\""
   ]
  },
  {
   "cell_type": "code",
   "execution_count": 207,
   "id": "c9d9f50a",
   "metadata": {},
   "outputs": [],
   "source": [
    "def add_arrow(line, position=None, direction='right', size=15, color=None):\n",
    "    \"\"\"\n",
    "    add an arrow to a line.\n",
    "\n",
    "    line:       Line2D object\n",
    "    position:   x-position of the arrow. If None, mean of xdata is taken\n",
    "    direction:  'left' or 'right'\n",
    "    size:       size of the arrow in fontsize points\n",
    "    color:      if None, line color is taken.\n",
    "    \"\"\"\n",
    "    if color is None:\n",
    "        color = line.get_color()\n",
    "\n",
    "    xdata = line.get_xdata()\n",
    "    ydata = line.get_ydata()\n",
    "\n",
    "    if position is None:\n",
    "        position = xdata.mean()\n",
    "    # find closest index\n",
    "    start_ind = np.argmin(np.absolute(xdata - position))\n",
    "    if direction == 'right':\n",
    "        end_ind = start_ind + 1\n",
    "    else:\n",
    "        end_ind = start_ind - 1\n",
    "\n",
    "    line.axes.annotate('',\n",
    "        xytext=(xdata[start_ind], ydata[start_ind]),\n",
    "        xy=(xdata[end_ind], ydata[end_ind]),\n",
    "        arrowprops=dict(arrowstyle=\"->\", color=color),\n",
    "        size=size\n",
    "    )"
   ]
  },
  {
   "cell_type": "code",
   "execution_count": null,
   "id": "d6835f17",
   "metadata": {},
   "outputs": [],
   "source": []
  },
  {
   "cell_type": "code",
   "execution_count": 208,
   "id": "d3d5ae26",
   "metadata": {},
   "outputs": [],
   "source": [
    "examples_path_eth = os.path.join(data_folder, \"examples_all_unnormalized_students03.pkl\")\n",
    "labels_path_eth = os.path.join(data_folder, \"labels_all_students03.pkl\")\n",
    "with open(examples_path_eth, \"rb\") as f:\n",
    "    examples_eth = pickle.load(f)\n",
    "with open(labels_path_eth, \"rb\") as f:\n",
    "    labels_eth = pickle.load(f)"
   ]
  },
  {
   "cell_type": "code",
   "execution_count": 209,
   "id": "c20d6df5",
   "metadata": {},
   "outputs": [],
   "source": [
    "idx = 0 #scene id\n",
    "example = examples_eth[idx]\n",
    "label = labels_eth[idx]\n",
    "num_atoms = example.shape[0]\n",
    "rel_rec, rel_send = create_edgeNode_relation(num_atoms, self_loops=False)\n",
    "label = torch.diag_embed(label)\n",
    "label_gr = torch.matmul(rel_send.t().long(), torch.matmul(label, rel_rec.long()))\n",
    "label_gr = label_gr.numpy()\n",
    "#get connected components\n",
    "\n",
    "gIDs = get_connected_components(label_gr)"
   ]
  },
  {
   "cell_type": "code",
   "execution_count": 210,
   "id": "f4ada60e",
   "metadata": {},
   "outputs": [
    {
     "data": {
      "text/plain": [
       "array([ 0,  1,  2,  3,  4,  4,  5,  6,  6,  6,  6,  7,  7,  7,  8,  8,  9,\n",
       "       10, 10, 11, 11, 11,  5, 12, 13, 13, 13, 14, 14,  3,  3,  3,  3, 15,\n",
       "       16, 17, 17], dtype=int32)"
      ]
     },
     "execution_count": 210,
     "metadata": {},
     "output_type": "execute_result"
    }
   ],
   "source": [
    "gIDs"
   ]
  },
  {
   "cell_type": "code",
   "execution_count": null,
   "id": "7e2efbbf",
   "metadata": {},
   "outputs": [],
   "source": []
  },
  {
   "cell_type": "code",
   "execution_count": 223,
   "id": "041ea74b",
   "metadata": {},
   "outputs": [],
   "source": [
    "## Define colours\n",
    "n = np.unique(gIDs).shape[0]\n",
    "n\n",
    "colors = pl.cm.jet(np.linspace(0,2,n))"
   ]
  },
  {
   "cell_type": "code",
   "execution_count": null,
   "id": "884e1038",
   "metadata": {},
   "outputs": [],
   "source": []
  },
  {
   "cell_type": "code",
   "execution_count": null,
   "id": "e360d819",
   "metadata": {},
   "outputs": [],
   "source": []
  },
  {
   "cell_type": "code",
   "execution_count": 220,
   "id": "65a8bac4",
   "metadata": {},
   "outputs": [],
   "source": [
    "def add_arrow(line, position=None, direction='right', size=15, color=None):\n",
    "    \"\"\"\n",
    "    add an arrow to a line.\n",
    "\n",
    "    line:       Line2D object\n",
    "    position:   x-position of the arrow. If None, mean of xdata is taken\n",
    "    direction:  'left' or 'right'\n",
    "    size:       size of the arrow in fontsize points\n",
    "    color:      if None, line color is taken.\n",
    "    \"\"\"\n",
    "    if color is None:\n",
    "        color = line.get_color()\n",
    "\n",
    "    xdata = line.get_xdata()\n",
    "    ydata = line.get_ydata()\n",
    "\n",
    "    if position is None:\n",
    "        position = xdata.mean()\n",
    "    # find closest index\n",
    "    start_ind = np.argmin(np.absolute(xdata - position))\n",
    "    if direction == 'right':\n",
    "        end_ind = start_ind + 1\n",
    "    else:\n",
    "        end_ind = start_ind - 1\n",
    "\n",
    "    line.axes.annotate('',\n",
    "        xytext=(xdata[start_ind], ydata[start_ind]),\n",
    "        xy=(xdata[end_ind], ydata[end_ind]),\n",
    "        arrowprops=dict(arrowstyle=\"->\", color=color),\n",
    "        size=size\n",
    "    )"
   ]
  },
  {
   "cell_type": "code",
   "execution_count": null,
   "id": "1254879d",
   "metadata": {},
   "outputs": [],
   "source": []
  },
  {
   "cell_type": "code",
   "execution_count": null,
   "id": "ea28bbe2",
   "metadata": {},
   "outputs": [],
   "source": []
  },
  {
   "cell_type": "code",
   "execution_count": 225,
   "id": "6b635b1d",
   "metadata": {},
   "outputs": [
    {
     "data": {
      "image/png": "[encoded data removed]",
      "text/plain": [
       "<Figure size 432x288 with 1 Axes>"
      ]
     },
     "metadata": {
      "needs_background": "light"
     },
     "output_type": "display_data"
    }
   ],
   "source": [
    "colormap = {0:'red',1:'blue',2:'orange',3:'black',4:'green',5:\"yellow\",6:\"purple\",\n",
    "           7:\"grey\",8:\"cyan\"}\n",
    "\n",
    "for i in range(len(example)):\n",
    "    traj = example[i]\n",
    "    x = traj[:,0]\n",
    "    y = traj[:,1]\n",
    "    line = plt.plot(x,y, color=colors[gIDs[i]])[0]\n",
    "    add_arrow(line)\n",
    "    \n",
    "plt.show()"
   ]
  },
  {
   "cell_type": "code",
   "execution_count": null,
   "id": "ccdeca40",
   "metadata": {},
   "outputs": [],
   "source": []
  },
  {
   "cell_type": "code",
   "execution_count": null,
   "id": "34993b19",
   "metadata": {},
   "outputs": [],
   "source": []
  },
  {
   "cell_type": "markdown",
   "id": "7eff820a",
   "metadata": {},
   "source": [
    "# Group Spring Simulation"
   ]
  },
  {
   "cell_type": "code",
   "execution_count": 227,
   "id": "3cb262d0",
   "metadata": {},
   "outputs": [
    {
     "name": "stdout",
     "output_type": "stream",
     "text": [
      "\u001b[34m__pycache__\u001b[m\u001b[m\r\n",
      "datainfo_static_5.npy\r\n",
      "edges_all_test_group_static_5.npy\r\n",
      "edges_all_train_group_static_5.npy\r\n",
      "edges_all_valid_group_static_5.npy\r\n",
      "edges_sampled_all_test_group_static_5.npy\r\n",
      "edges_sampled_all_train_group_static_5.npy\r\n",
      "edges_sampled_all_valid_group_static_5.npy\r\n",
      "ga_test_group_static_5.npy\r\n",
      "ga_train_group_static_5.npy\r\n",
      "ga_valid_group_static_5.npy\r\n",
      "generate_dataset.py\r\n",
      "generate_dataset_group.py\r\n",
      "gr_test_group_static_5.npy\r\n",
      "gr_train_group_static_5.npy\r\n",
      "gr_valid_group_static_5.npy\r\n",
      "loc_all_test_group_static_5.npy\r\n",
      "loc_all_train_group_static_5.npy\r\n",
      "loc_all_valid_group_static_5.npy\r\n",
      "loc_sampled_all_test_group_static_5.npy\r\n",
      "loc_sampled_all_train_group_static_20.npy\r\n",
      "loc_sampled_all_train_group_static_5.npy\r\n",
      "loc_sampled_all_valid_group_static_5.npy\r\n",
      "sampled_indices_all_test_group_static_5.npy\r\n",
      "sampled_indices_all_train_group_static_5.npy\r\n",
      "sampled_indices_all_valid_group_static_5.npy\r\n",
      "spring_sim.py\r\n",
      "spring_sim_group.py\r\n",
      "test_data_loader_static_5.pth\r\n",
      "train_data_loader_static_5.pth\r\n",
      "valid_data_loader_static_5.pth\r\n",
      "vel_all_test_group_static_5.npy\r\n",
      "vel_all_train_group_static_5.npy\r\n",
      "vel_all_valid_group_static_5.npy\r\n",
      "vel_sampled_all_test_group_static_5.npy\r\n",
      "vel_sampled_all_train_group_static_20.npy\r\n",
      "vel_sampled_all_train_group_static_5.npy\r\n",
      "vel_sampled_all_valid_group_static_5.npy\r\n"
     ]
    }
   ],
   "source": [
    "!ls data/simulation/spring_simulation/"
   ]
  },
  {
   "cell_type": "code",
   "execution_count": 228,
   "id": "8713c334",
   "metadata": {},
   "outputs": [],
   "source": [
    "data_folder = \"data/simulation/spring_simulation/\""
   ]
  },
  {
   "cell_type": "code",
   "execution_count": 232,
   "id": "91b46b5e",
   "metadata": {},
   "outputs": [],
   "source": [
    "ga_test = np.load(os.path.join(data_folder, \"ga_test_group_static_5.npy\"))\n",
    "loc_test = np.load(os.path.join(data_folder, \"loc_all_test_group_static_5.npy\"))"
   ]
  },
  {
   "cell_type": "code",
   "execution_count": 269,
   "id": "db3e78e0",
   "metadata": {},
   "outputs": [],
   "source": [
    "sim_id = 150\n",
    "ga_i = ga_test[sim_id]\n",
    "locs_i = loc_test[sim_id]"
   ]
  },
  {
   "cell_type": "code",
   "execution_count": 270,
   "id": "28a0d46e",
   "metadata": {},
   "outputs": [
    {
     "data": {
      "text/plain": [
       "array([0, 0, 1, 3, 0])"
      ]
     },
     "execution_count": 270,
     "metadata": {},
     "output_type": "execute_result"
    }
   ],
   "source": [
    "ga_i"
   ]
  },
  {
   "cell_type": "code",
   "execution_count": 271,
   "id": "00e9e6a2",
   "metadata": {},
   "outputs": [
    {
     "data": {
      "text/plain": [
       "(5000, 2, 5)"
      ]
     },
     "execution_count": 271,
     "metadata": {},
     "output_type": "execute_result"
    }
   ],
   "source": [
    "locs_i.shape"
   ]
  },
  {
   "cell_type": "code",
   "execution_count": 272,
   "id": "e0a6fc99",
   "metadata": {},
   "outputs": [],
   "source": [
    "cmap = {0:\"black\", 1:\"red\", 2:\"blue\", 3:\"orange\", 4:\"green\"}"
   ]
  },
  {
   "cell_type": "code",
   "execution_count": 273,
   "id": "44920370",
   "metadata": {},
   "outputs": [
    {
     "data": {
      "image/png": "[encoded data removed]",
      "text/plain": [
       "<Figure size 432x288 with 1 Axes>"
      ]
     },
     "metadata": {
      "needs_background": "light"
     },
     "output_type": "display_data"
    }
   ],
   "source": [
    "for i in range(locs_i.shape[-1]):\n",
    "    traj = locs_i[:,:,i]\n",
    "    x = traj[:,0]\n",
    "    y = traj[:,1]\n",
    "    line = plt.plot(x,y, color = cmap[ga_i[i]])[0]\n",
    "    add_arrow(line)\n",
    "    \n",
    "plt.show()"
   ]
  },
  {
   "cell_type": "code",
   "execution_count": null,
   "id": "1d55acf4",
   "metadata": {},
   "outputs": [],
   "source": []
  }
 ],
 "metadata": {
  "kernelspec": {
   "display_name": "Python 3 (ipykernel)",
   "language": "python",
   "name": "python3"
  },
  "language_info": {
   "codemirror_mode": {
    "name": "ipython",
    "version": 3
   },
   "file_extension": ".py",
   "mimetype": "text/x-python",
   "name": "python",
   "nbconvert_exporter": "python",
   "pygments_lexer": "ipython3",
   "version": "3.8.12"
  }
 },
 "nbformat": 4,
 "nbformat_minor": 5
}
