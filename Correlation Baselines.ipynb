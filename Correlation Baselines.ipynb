{
 "cells": [
  {
   "cell_type": "code",
   "execution_count": 119,
   "id": "c4d45a81",
   "metadata": {},
   "outputs": [],
   "source": [
    "import numpy as np\n",
    "import torch \n",
    "import torch.nn as nn\n",
    "import torch.nn.functional as F\n",
    "\n",
    "from data_utils import *\n",
    "from utils import *\n",
    "\n",
    "from sklearn.cross_decomposition import CCA\n",
    "from scipy.stats import pearsonr\n",
    "\n",
    "import networkx as nx\n",
    "from networkx.algorithms import community\n",
    "from networkx.algorithms.components import connected_components"
   ]
  },
  {
   "cell_type": "code",
   "execution_count": null,
   "id": "17b24ef6",
   "metadata": {},
   "outputs": [],
   "source": []
  },
  {
   "cell_type": "markdown",
   "id": "7455a274",
   "metadata": {},
   "source": [
    "## Define The Correlation Model"
   ]
  },
  {
   "cell_type": "code",
   "execution_count": 135,
   "id": "354b4faa",
   "metadata": {},
   "outputs": [],
   "source": [
    "#Define the correlation model\n",
    "\n",
    "class MagnitudeCorrelation(nn.Module):\n",
    "    def __init__(self):\n",
    "        super(MagnitudeCorrelation, self).__init__()\n",
    "        \n",
    "    def node2edge_corr(self, inputs, rel_rec, rel_send):\n",
    "        x = inputs.view(inputs.size(0), inputs.size(1), -1)\n",
    "        #shape: [batch_size, num_atoms, num_timesteps*num_features]\n",
    "        receivers = torch.matmul(rel_rec, x)\n",
    "        receivers = receivers.view(inputs.size(0)*receivers.size(1),\n",
    "                                  inputs.size(2),inputs.size(3))\n",
    "        receivers = receivers.transpose(2,1)\n",
    "        #shape: [batch_size*num_edges, num_features, num_timesteps]\n",
    "        senders = torch.matmul(rel_send, x)\n",
    "        senders = senders.view(inputs.size(0)*senders.size(1),\n",
    "                              inputs.size(2), inputs.size(3))\n",
    "        senders = senders.transpose(2,1)\n",
    "        #shape: [batch_size*num_edges, num_features, num_timesteps]\n",
    "        \n",
    "        receivers_norm = torch.norm(receivers, dim=1).cpu().detach()\n",
    "        senders_norm = torch.norm(senders, dim=1).cpu().detach()\n",
    "        \n",
    "        \n",
    "        corrs = torch.tensor([pearsonr(senders_norm[i], receivers_norm[i])[0] for i in range(senders_norm.size(0))]).float()\n",
    "            \n",
    "        corrs = corrs.view(inputs.size(0),-1)\n",
    "        \n",
    "        corrs = torch.diag_embed(corrs)\n",
    "        corrs_nodes = torch.matmul(rel_send.t(), torch.matmul(corrs, rel_rec))\n",
    "        return corrs_nodes\n",
    "        \n",
    "    \n",
    "    def forward(self, inputs, rel_rec, rel_send):\n",
    "        \"\"\"\n",
    "        args:\n",
    "          inputs: [batch_size, num_atoms, num_timesteps, num_edges]\n",
    "        \"\"\"\n",
    "        corrs_nodes = self.node2edge_corr(inputs, rel_rec, rel_send)\n",
    "        #shape: [batch_size, num_atoms, num_atoms]\n",
    "        return corrs_nodes"
   ]
  },
  {
   "cell_type": "markdown",
   "id": "f0bcccf2",
   "metadata": {},
   "source": [
    "## Group Spring Simulation"
   ]
  },
  {
   "cell_type": "code",
   "execution_count": 136,
   "id": "f707a236",
   "metadata": {},
   "outputs": [],
   "source": [
    "num_atoms = 5\n",
    "rel_rec_sl, rel_send_sl = create_edgeNode_relation(num_atoms, self_loops=True)\n",
    "rel_rec, rel_send = create_edgeNode_relation(num_atoms, self_loops=False)"
   ]
  },
  {
   "cell_type": "markdown",
   "id": "23151850",
   "metadata": {},
   "source": [
    "### Load Data"
   ]
  },
  {
   "cell_type": "code",
   "execution_count": 137,
   "id": "9943a43b",
   "metadata": {},
   "outputs": [
    {
     "name": "stdout",
     "output_type": "stream",
     "text": [
      "Data shape:  torch.Size([200, 5, 49, 4])\n",
      "Labels shape:  torch.Size([200, 20])\n",
      "Group relations shape:  torch.Size([200, 5, 5])\n",
      "(200, 5, 5)\n"
     ]
    }
   ],
   "source": [
    "#Load Group Spring Simulation Data\n",
    "\n",
    "suffix = \"_static_5\"\n",
    "\n",
    "train_loader, valid_loader, test_loader, loc_max, loc_min, vel_max, vel_min = load_spring_sim(64, suffix, \n",
    "                                                                                             normalize=False)\n",
    "data = test_loader.dataset[:][0]\n",
    "labels = test_loader.dataset[:][1]\n",
    "#data = data.unsqueeze(0)\n",
    "print(\"Data shape: \",data.size())\n",
    "print(\"Labels shape: \",labels.size())\n",
    "\n",
    "labels_diag = torch.diag_embed(labels)\n",
    "gr_labels = torch.matmul(rel_send.t(), \n",
    "                         torch.matmul(labels_diag.float(), rel_rec))\n",
    "print(\"Group relations shape: \" ,gr_labels.size())\n",
    "gr_labels_numpy = gr_labels.cpu().detach().numpy()\n",
    "print(gr_labels_numpy.shape)\n",
    "\n",
    "#process Labels\n",
    "gr_labels_clusters = []\n",
    "for i in range(gr_labels_numpy.shape[0]):\n",
    "    gi = nx.from_numpy_array(gr_labels_numpy[i])\n",
    "    com = list(connected_components(gi))\n",
    "    com = [list(c) for c in com]\n",
    "    gr_labels_clusters.append(com)"
   ]
  },
  {
   "cell_type": "code",
   "execution_count": 138,
   "id": "8766376a",
   "metadata": {},
   "outputs": [],
   "source": []
  },
  {
   "cell_type": "markdown",
   "id": "285e7d86",
   "metadata": {},
   "source": [
    "### Graph Clustering with Louvain Algorithm"
   ]
  },
  {
   "cell_type": "code",
   "execution_count": 139,
   "id": "17fe285c",
   "metadata": {},
   "outputs": [],
   "source": [
    "from cdlib import algorithms\n",
    "import networkx as nx\n",
    "from networkx.algorithms import community\n",
    "from networkx.algorithms.components import connected_components"
   ]
  },
  {
   "cell_type": "code",
   "execution_count": 140,
   "id": "68361936",
   "metadata": {},
   "outputs": [],
   "source": [
    "magnitude_correlation = MagnitudeCorrelation()\n",
    "magnitude_correlation.eval()\n",
    "with torch.no_grad():\n",
    "    correlations = magnitude_correlation(data, rel_rec, rel_send)\n",
    "\n",
    "correlations = symmetrize(correlations)\n",
    "correlations = (correlations > 0.5).float()\n",
    "correlations_numpy = correlations.cpu().detach().numpy()"
   ]
  },
  {
   "cell_type": "code",
   "execution_count": 144,
   "id": "bbba5069",
   "metadata": {},
   "outputs": [
    {
     "name": "stdout",
     "output_type": "stream",
     "text": [
      "Average Precision:  0.18458333333333332\n",
      "Average Recall:  0.4233333333333333\n",
      "Average F1 Score:  0.21575901875901876\n"
     ]
    }
   ],
   "source": [
    "#Compute Group Mitre\n",
    "precision_test = []\n",
    "recall_test = []\n",
    "F1_test = []\n",
    "\n",
    "for i in range(correlations_numpy.shape[0]):\n",
    "    Ai = correlations_numpy[i]\n",
    "    Ai = nx.from_numpy_array(Ai)\n",
    "    coms = algorithms.louvain(Ai)\n",
    "    communities = coms.communities\n",
    "    \n",
    "    recall, precision, F1 = compute_groupMitre(gr_labels_clusters[i], communities)\n",
    "    \n",
    "    recall_test.append(recall)\n",
    "    precision_test.append(precision)\n",
    "    F1_test.append(F1)\n",
    "    \n",
    "\n",
    "precision_mean = np.mean(precision_test)\n",
    "recall_mean = np.mean(recall_test)\n",
    "F1_mean = np.mean(F1_test)\n",
    "\n",
    "print(\"Average Precision: \", precision_mean)\n",
    "print(\"Average Recall: \", recall_mean)\n",
    "print(\"Average F1 Score: \", F1_mean)"
   ]
  },
  {
   "cell_type": "code",
   "execution_count": null,
   "id": "23e8225d",
   "metadata": {},
   "outputs": [],
   "source": []
  },
  {
   "cell_type": "code",
   "execution_count": null,
   "id": "a44a2f09",
   "metadata": {},
   "outputs": [],
   "source": []
  },
  {
   "cell_type": "code",
   "execution_count": null,
   "id": "679a6c21",
   "metadata": {},
   "outputs": [],
   "source": []
  },
  {
   "cell_type": "code",
   "execution_count": null,
   "id": "5dab5af9",
   "metadata": {},
   "outputs": [],
   "source": []
  }
 ],
 "metadata": {
  "kernelspec": {
   "display_name": "Python 3 (ipykernel)",
   "language": "python",
   "name": "python3"
  },
  "language_info": {
   "codemirror_mode": {
    "name": "ipython",
    "version": 3
   },
   "file_extension": ".py",
   "mimetype": "text/x-python",
   "name": "python",
   "nbconvert_exporter": "python",
   "pygments_lexer": "ipython3",
   "version": "3.8.12"
  }
 },
 "nbformat": 4,
 "nbformat_minor": 5
}
